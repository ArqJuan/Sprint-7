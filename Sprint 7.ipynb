{
 "cells": [
  {
   "cell_type": "markdown",
   "metadata": {},
   "source": [
    "# PROYECTO SPRINT 7: RECOPILACION DE ALMACENAMIENTO DE DATOS (SQL)"
   ]
  },
  {
   "cell_type": "markdown",
   "metadata": {},
   "source": [
    "## 1.- Importacion de Bibliotecas"
   ]
  },
  {
   "cell_type": "code",
   "execution_count": 39,
   "metadata": {},
   "outputs": [],
   "source": [
    "import pandas as pd\n",
    "import numpy as np\n",
    "from scipy import stats as st\n",
    "from functools import reduce\n",
    "from matplotlib import pyplot as plt\n",
    "import seaborn as sns\n",
    "import plotly_express as px "
   ]
  },
  {
   "cell_type": "markdown",
   "metadata": {},
   "source": [
    "## 2.- Estudio de Datos.\n",
    "### 2.1.- Trabajo de Datos."
   ]
  },
  {
   "cell_type": "code",
   "execution_count": 45,
   "metadata": {},
   "outputs": [
    {
     "name": "stdout",
     "output_type": "stream",
     "text": [
      "<class 'pandas.core.frame.DataFrame'>\n",
      "RangeIndex: 64 entries, 0 to 63\n",
      "Data columns (total 2 columns):\n",
      " #   Column        Non-Null Count  Dtype \n",
      "---  ------        --------------  ----- \n",
      " 0   company_name  64 non-null     object\n",
      " 1   trips_amount  64 non-null     int64 \n",
      "dtypes: int64(1), object(1)\n",
      "memory usage: 1.1+ KB\n",
      "==============\n",
      "\n",
      "<class 'pandas.core.frame.DataFrame'>\n",
      "RangeIndex: 94 entries, 0 to 93\n",
      "Data columns (total 2 columns):\n",
      " #   Column                 Non-Null Count  Dtype \n",
      "---  ------                 --------------  ----- \n",
      " 0   dropoff_location_name  94 non-null     object\n",
      " 1   average_trips          94 non-null     int64 \n",
      "dtypes: int64(1), object(1)\n",
      "memory usage: 1.6+ KB\n",
      "==============\n",
      "\n",
      "<class 'pandas.core.frame.DataFrame'>\n",
      "RangeIndex: 1068 entries, 0 to 1067\n",
      "Data columns (total 4 columns):\n",
      " #   Column              Non-Null Count  Dtype  \n",
      "---  ------              --------------  -----  \n",
      " 0   start_ts            1068 non-null   object \n",
      " 1   weather_conditions  1068 non-null   object \n",
      " 2   duration_seconds    1068 non-null   float64\n",
      " 3   duration_minutes    1068 non-null   float64\n",
      "dtypes: float64(2), object(2)\n",
      "memory usage: 33.5+ KB\n"
     ]
    }
   ],
   "source": [
    "company_trips = pd.read_csv('moved_project_sql_result_01.csv')\n",
    "#display(company_trips.head())\n",
    "company_trips.info()\n",
    "print('==============')\n",
    "print()\n",
    "trips_per_loc = pd.read_csv('moved_project_sql_result_04.csv')\n",
    "trips_per_loc['average_trips'] = np.floor(trips_per_loc['average_trips']).astype(int)\n",
    "#display(trips_per_loc.head())\n",
    "trips_per_loc.info()\n",
    "print('==============')\n",
    "print()\n",
    "\n",
    "trip_info = pd.read_csv('moved_project_sql_result_07.csv')\n",
    "trip_info['duration_minutes'] = (trip_info['duration_seconds']/60).round(2)\n",
    "\n",
    "#display(trip_info.head())\n",
    "trip_info.info()"
   ]
  },
  {
   "cell_type": "code",
   "execution_count": 41,
   "metadata": {},
   "outputs": [
    {
     "name": "stdout",
     "output_type": "stream",
     "text": [
      "El dataframe \"company_trips\" tiene valores ausentes?:\n",
      "company_name    0\n",
      "trips_amount    0\n",
      "dtype: int64\n",
      "\n",
      "El dataframe \"trips_per_loc\" tiene valores ausentes?:\n",
      "dropoff_location_name    0\n",
      "average_trips            0\n",
      "dtype: int64\n",
      "\n",
      "El dataframe \"trip_info\" tiene valores ausentes?:\n",
      "start_ts              0\n",
      "weather_conditions    0\n",
      "duration_seconds      0\n",
      "duration_minutes      0\n",
      "dtype: int64\n"
     ]
    }
   ],
   "source": [
    "print(f'El dataframe \"company_trips\" tiene valores ausentes?:\\n{company_trips.isna().sum()}')\n",
    "print()\n",
    "print(f'El dataframe \"trips_per_loc\" tiene valores ausentes?:\\n{trips_per_loc.isna().sum()}')\n",
    "print()\n",
    "print(f'El dataframe \"trip_info\" tiene valores ausentes?:\\n{trip_info.isna().sum()}')\n"
   ]
  },
  {
   "cell_type": "markdown",
   "metadata": {},
   "source": [
    "## 3.- Representacion de datos mediante Graficos.\n",
    "\n",
    "### 3.1.- Top 10 Barrios con viajes finalizados."
   ]
  },
  {
   "cell_type": "code",
   "execution_count": 42,
   "metadata": {},
   "outputs": [
    {
     "data": {
      "text/html": [
       "<div>\n",
       "<style scoped>\n",
       "    .dataframe tbody tr th:only-of-type {\n",
       "        vertical-align: middle;\n",
       "    }\n",
       "\n",
       "    .dataframe tbody tr th {\n",
       "        vertical-align: top;\n",
       "    }\n",
       "\n",
       "    .dataframe thead th {\n",
       "        text-align: right;\n",
       "    }\n",
       "</style>\n",
       "<table border=\"1\" class=\"dataframe\">\n",
       "  <thead>\n",
       "    <tr style=\"text-align: right;\">\n",
       "      <th></th>\n",
       "      <th>company_name</th>\n",
       "      <th>trips_amount</th>\n",
       "    </tr>\n",
       "  </thead>\n",
       "  <tbody>\n",
       "    <tr>\n",
       "      <th>0</th>\n",
       "      <td>Flash Cab</td>\n",
       "      <td>19558</td>\n",
       "    </tr>\n",
       "    <tr>\n",
       "      <th>1</th>\n",
       "      <td>Taxi Affiliation Services</td>\n",
       "      <td>11422</td>\n",
       "    </tr>\n",
       "    <tr>\n",
       "      <th>2</th>\n",
       "      <td>Medallion Leasin</td>\n",
       "      <td>10367</td>\n",
       "    </tr>\n",
       "    <tr>\n",
       "      <th>3</th>\n",
       "      <td>Yellow Cab</td>\n",
       "      <td>9888</td>\n",
       "    </tr>\n",
       "    <tr>\n",
       "      <th>4</th>\n",
       "      <td>Taxi Affiliation Service Yellow</td>\n",
       "      <td>9299</td>\n",
       "    </tr>\n",
       "    <tr>\n",
       "      <th>...</th>\n",
       "      <td>...</td>\n",
       "      <td>...</td>\n",
       "    </tr>\n",
       "    <tr>\n",
       "      <th>59</th>\n",
       "      <td>4053 - 40193 Adwar H. Nikola</td>\n",
       "      <td>7</td>\n",
       "    </tr>\n",
       "    <tr>\n",
       "      <th>60</th>\n",
       "      <td>2733 - 74600 Benny Jona</td>\n",
       "      <td>7</td>\n",
       "    </tr>\n",
       "    <tr>\n",
       "      <th>61</th>\n",
       "      <td>5874 - 73628 Sergey Cab Corp.</td>\n",
       "      <td>5</td>\n",
       "    </tr>\n",
       "    <tr>\n",
       "      <th>62</th>\n",
       "      <td>2241 - 44667 - Felman Corp, Manuel Alonso</td>\n",
       "      <td>3</td>\n",
       "    </tr>\n",
       "    <tr>\n",
       "      <th>63</th>\n",
       "      <td>3556 - 36214 RC Andrews Cab</td>\n",
       "      <td>2</td>\n",
       "    </tr>\n",
       "  </tbody>\n",
       "</table>\n",
       "<p>64 rows × 2 columns</p>\n",
       "</div>"
      ],
      "text/plain": [
       "                                 company_name  trips_amount\n",
       "0                                   Flash Cab         19558\n",
       "1                   Taxi Affiliation Services         11422\n",
       "2                            Medallion Leasin         10367\n",
       "3                                  Yellow Cab          9888\n",
       "4             Taxi Affiliation Service Yellow          9299\n",
       "..                                        ...           ...\n",
       "59               4053 - 40193 Adwar H. Nikola             7\n",
       "60                    2733 - 74600 Benny Jona             7\n",
       "61              5874 - 73628 Sergey Cab Corp.             5\n",
       "62  2241 - 44667 - Felman Corp, Manuel Alonso             3\n",
       "63                3556 - 36214 RC Andrews Cab             2\n",
       "\n",
       "[64 rows x 2 columns]"
      ]
     },
     "metadata": {},
     "output_type": "display_data"
    },
    {
     "data": {
      "image/png": "[encoded data removed]",
      "text/plain": [
       "<Figure size 640x480 with 1 Axes>"
      ]
     },
     "metadata": {},
     "output_type": "display_data"
    }
   ],
   "source": [
    "company_trips.sort_values(['trips_amount'], ascending=False).head(10).plot(\n",
    "    kind='bar',\n",
    "    x='company_name',\n",
    "    y='trips_amount',\n",
    "    xlabel='Cab Companies',\n",
    "    ylabel='Amount of trips',\n",
    "    title='Amount of Trips per Cab Company'\n",
    ")\n",
    "plt.legend(['Amount of trips'])\n",
    "plt.show()"
   ]
  },
  {
   "cell_type": "markdown",
   "metadata": {},
   "source": [
    "### Conclusion 3.1.\n",
    "#### Las top 10 companias de taxis en chicago con mayores viajes terminados son:\n",
    "1. Flash Cab\n",
    "2. Taxi Affiliation Services\n",
    "3. Medallion Leasin\n",
    "4. Yellow Cab\n",
    "5. Taxi Affiliation Service Yellow\n",
    "6. Chicago Carriage Corp\n",
    "7. City Service\n",
    "8. Sun Taxi\n",
    "9. Star North Management LLC\n",
    "10. Blue Ribbon Taxi Association Inc.\n"
   ]
  },
  {
   "cell_type": "markdown",
   "metadata": {},
   "source": [
    "### 3.2.- Top 10 de Barrios con mayores viajes finalizados"
   ]
  },
  {
   "cell_type": "code",
   "execution_count": 43,
   "metadata": {},
   "outputs": [
    {
     "data": {
      "text/html": [
       "<div>\n",
       "<style scoped>\n",
       "    .dataframe tbody tr th:only-of-type {\n",
       "        vertical-align: middle;\n",
       "    }\n",
       "\n",
       "    .dataframe tbody tr th {\n",
       "        vertical-align: top;\n",
       "    }\n",
       "\n",
       "    .dataframe thead th {\n",
       "        text-align: right;\n",
       "    }\n",
       "</style>\n",
       "<table border=\"1\" class=\"dataframe\">\n",
       "  <thead>\n",
       "    <tr style=\"text-align: right;\">\n",
       "      <th></th>\n",
       "      <th>dropoff_location_name</th>\n",
       "      <th>average_trips</th>\n",
       "    </tr>\n",
       "  </thead>\n",
       "  <tbody>\n",
       "    <tr>\n",
       "      <th>0</th>\n",
       "      <td>Loop</td>\n",
       "      <td>10727</td>\n",
       "    </tr>\n",
       "    <tr>\n",
       "      <th>1</th>\n",
       "      <td>River North</td>\n",
       "      <td>9523</td>\n",
       "    </tr>\n",
       "    <tr>\n",
       "      <th>2</th>\n",
       "      <td>Streeterville</td>\n",
       "      <td>6664</td>\n",
       "    </tr>\n",
       "    <tr>\n",
       "      <th>3</th>\n",
       "      <td>West Loop</td>\n",
       "      <td>5163</td>\n",
       "    </tr>\n",
       "    <tr>\n",
       "      <th>4</th>\n",
       "      <td>O'Hare</td>\n",
       "      <td>2546</td>\n",
       "    </tr>\n",
       "    <tr>\n",
       "      <th>...</th>\n",
       "      <td>...</td>\n",
       "      <td>...</td>\n",
       "    </tr>\n",
       "    <tr>\n",
       "      <th>89</th>\n",
       "      <td>Mount Greenwood</td>\n",
       "      <td>3</td>\n",
       "    </tr>\n",
       "    <tr>\n",
       "      <th>90</th>\n",
       "      <td>Hegewisch</td>\n",
       "      <td>3</td>\n",
       "    </tr>\n",
       "    <tr>\n",
       "      <th>91</th>\n",
       "      <td>Burnside</td>\n",
       "      <td>2</td>\n",
       "    </tr>\n",
       "    <tr>\n",
       "      <th>92</th>\n",
       "      <td>East Side</td>\n",
       "      <td>1</td>\n",
       "    </tr>\n",
       "    <tr>\n",
       "      <th>93</th>\n",
       "      <td>Riverdale</td>\n",
       "      <td>1</td>\n",
       "    </tr>\n",
       "  </tbody>\n",
       "</table>\n",
       "<p>94 rows × 2 columns</p>\n",
       "</div>"
      ],
      "text/plain": [
       "   dropoff_location_name  average_trips\n",
       "0                   Loop          10727\n",
       "1            River North           9523\n",
       "2          Streeterville           6664\n",
       "3              West Loop           5163\n",
       "4                 O'Hare           2546\n",
       "..                   ...            ...\n",
       "89       Mount Greenwood              3\n",
       "90             Hegewisch              3\n",
       "91              Burnside              2\n",
       "92             East Side              1\n",
       "93             Riverdale              1\n",
       "\n",
       "[94 rows x 2 columns]"
      ]
     },
     "metadata": {},
     "output_type": "display_data"
    },
    {
     "data": {
      "image/png": "[encoded data removed]",
      "text/plain": [
       "<Figure size 640x480 with 1 Axes>"
      ]
     },
     "metadata": {},
     "output_type": "display_data"
    }
   ],
   "source": [
    "trips_per_loc.sort_values(['average_trips'], ascending=False).head(10).plot(\n",
    "    kind='bar',\n",
    "    x='dropoff_location_name',\n",
    "    y='average_trips',\n",
    "    xlabel='Dropoff Location',\n",
    "    ylabel='Average Trips',\n",
    "    title='Average trips per Location'\n",
    ")\n",
    "plt.legend(['Average trips'])\n",
    "plt.show()"
   ]
  },
  {
   "cell_type": "markdown",
   "metadata": {},
   "source": [
    "### Conclusion 3.2.\n",
    "#### Las top 10 ubicaciones de chicago con mayores viajes por promedio son:\n",
    "1. Loop\n",
    "2. River North\n",
    "3. Streeterville\n",
    "4. West Loop\n",
    "5. O'Hare\n",
    "6. Lake View\n",
    "7. Grant Park\n",
    "8. Museum Campus\n",
    "9. Gold Coast\n",
    "10. Sheffield & DePaul"
   ]
  },
  {
   "cell_type": "code",
   "execution_count": 46,
   "metadata": {},
   "outputs": [
    {
     "data": {
      "text/html": [
       "<div>\n",
       "<style scoped>\n",
       "    .dataframe tbody tr th:only-of-type {\n",
       "        vertical-align: middle;\n",
       "    }\n",
       "\n",
       "    .dataframe tbody tr th {\n",
       "        vertical-align: top;\n",
       "    }\n",
       "\n",
       "    .dataframe thead th {\n",
       "        text-align: right;\n",
       "    }\n",
       "</style>\n",
       "<table border=\"1\" class=\"dataframe\">\n",
       "  <thead>\n",
       "    <tr style=\"text-align: right;\">\n",
       "      <th></th>\n",
       "      <th>start_ts</th>\n",
       "      <th>weather_conditions</th>\n",
       "      <th>duration_seconds</th>\n",
       "      <th>duration_minutes</th>\n",
       "    </tr>\n",
       "  </thead>\n",
       "  <tbody>\n",
       "    <tr>\n",
       "      <th>0</th>\n",
       "      <td>2017-11-25 16:00:00</td>\n",
       "      <td>Good</td>\n",
       "      <td>2410.0</td>\n",
       "      <td>40.17</td>\n",
       "    </tr>\n",
       "    <tr>\n",
       "      <th>1</th>\n",
       "      <td>2017-11-25 14:00:00</td>\n",
       "      <td>Good</td>\n",
       "      <td>1920.0</td>\n",
       "      <td>32.00</td>\n",
       "    </tr>\n",
       "    <tr>\n",
       "      <th>2</th>\n",
       "      <td>2017-11-25 12:00:00</td>\n",
       "      <td>Good</td>\n",
       "      <td>1543.0</td>\n",
       "      <td>25.72</td>\n",
       "    </tr>\n",
       "    <tr>\n",
       "      <th>3</th>\n",
       "      <td>2017-11-04 10:00:00</td>\n",
       "      <td>Good</td>\n",
       "      <td>2512.0</td>\n",
       "      <td>41.87</td>\n",
       "    </tr>\n",
       "    <tr>\n",
       "      <th>4</th>\n",
       "      <td>2017-11-11 07:00:00</td>\n",
       "      <td>Good</td>\n",
       "      <td>1440.0</td>\n",
       "      <td>24.00</td>\n",
       "    </tr>\n",
       "    <tr>\n",
       "      <th>...</th>\n",
       "      <td>...</td>\n",
       "      <td>...</td>\n",
       "      <td>...</td>\n",
       "      <td>...</td>\n",
       "    </tr>\n",
       "    <tr>\n",
       "      <th>1063</th>\n",
       "      <td>2017-11-25 11:00:00</td>\n",
       "      <td>Good</td>\n",
       "      <td>0.0</td>\n",
       "      <td>0.00</td>\n",
       "    </tr>\n",
       "    <tr>\n",
       "      <th>1064</th>\n",
       "      <td>2017-11-11 10:00:00</td>\n",
       "      <td>Good</td>\n",
       "      <td>1318.0</td>\n",
       "      <td>21.97</td>\n",
       "    </tr>\n",
       "    <tr>\n",
       "      <th>1065</th>\n",
       "      <td>2017-11-11 13:00:00</td>\n",
       "      <td>Good</td>\n",
       "      <td>2100.0</td>\n",
       "      <td>35.00</td>\n",
       "    </tr>\n",
       "    <tr>\n",
       "      <th>1066</th>\n",
       "      <td>2017-11-11 08:00:00</td>\n",
       "      <td>Good</td>\n",
       "      <td>1380.0</td>\n",
       "      <td>23.00</td>\n",
       "    </tr>\n",
       "    <tr>\n",
       "      <th>1067</th>\n",
       "      <td>2017-11-04 16:00:00</td>\n",
       "      <td>Bad</td>\n",
       "      <td>2834.0</td>\n",
       "      <td>47.23</td>\n",
       "    </tr>\n",
       "  </tbody>\n",
       "</table>\n",
       "<p>1068 rows × 4 columns</p>\n",
       "</div>"
      ],
      "text/plain": [
       "                 start_ts weather_conditions  duration_seconds  \\\n",
       "0     2017-11-25 16:00:00               Good            2410.0   \n",
       "1     2017-11-25 14:00:00               Good            1920.0   \n",
       "2     2017-11-25 12:00:00               Good            1543.0   \n",
       "3     2017-11-04 10:00:00               Good            2512.0   \n",
       "4     2017-11-11 07:00:00               Good            1440.0   \n",
       "...                   ...                ...               ...   \n",
       "1063  2017-11-25 11:00:00               Good               0.0   \n",
       "1064  2017-11-11 10:00:00               Good            1318.0   \n",
       "1065  2017-11-11 13:00:00               Good            2100.0   \n",
       "1066  2017-11-11 08:00:00               Good            1380.0   \n",
       "1067  2017-11-04 16:00:00                Bad            2834.0   \n",
       "\n",
       "      duration_minutes  \n",
       "0                40.17  \n",
       "1                32.00  \n",
       "2                25.72  \n",
       "3                41.87  \n",
       "4                24.00  \n",
       "...                ...  \n",
       "1063              0.00  \n",
       "1064             21.97  \n",
       "1065             35.00  \n",
       "1066             23.00  \n",
       "1067             47.23  \n",
       "\n",
       "[1068 rows x 4 columns]"
      ]
     },
     "metadata": {},
     "output_type": "display_data"
    },
    {
     "name": "stdout",
     "output_type": "stream",
     "text": [
      "<class 'pandas.core.frame.DataFrame'>\n",
      "RangeIndex: 1068 entries, 0 to 1067\n",
      "Data columns (total 4 columns):\n",
      " #   Column              Non-Null Count  Dtype  \n",
      "---  ------              --------------  -----  \n",
      " 0   start_ts            1068 non-null   object \n",
      " 1   weather_conditions  1068 non-null   object \n",
      " 2   duration_seconds    1068 non-null   float64\n",
      " 3   duration_minutes    1068 non-null   float64\n",
      "dtypes: float64(2), object(2)\n",
      "memory usage: 33.5+ KB\n",
      "<class 'pandas.core.frame.DataFrame'>\n",
      "RangeIndex: 1068 entries, 0 to 1067\n",
      "Data columns (total 4 columns):\n",
      " #   Column              Non-Null Count  Dtype         \n",
      "---  ------              --------------  -----         \n",
      " 0   start_ts            1068 non-null   datetime64[ns]\n",
      " 1   weather_conditions  1068 non-null   object        \n",
      " 2   duration_seconds    1068 non-null   float64       \n",
      " 3   duration_minutes    1068 non-null   float64       \n",
      "dtypes: datetime64[ns](1), float64(2), object(1)\n",
      "memory usage: 33.5+ KB\n"
     ]
    },
    {
     "data": {
      "text/plain": [
       "Trip_DoW\n",
       "5    1068\n",
       "Name: count, dtype: int64"
      ]
     },
     "metadata": {},
     "output_type": "display_data"
    }
   ],
   "source": [
    "display(trip_info)\n",
    "trip_info.info()\n",
    "trip_info['start_ts'] = pd.to_datetime(trip_info['start_ts'])\n",
    "trip_info.info()\n",
    "trip_info['Trip_DoW'] = trip_info['start_ts'].dt.day_of_week\n",
    "display(trip_info['Trip_DoW'].value_counts())"
   ]
  },
  {
   "cell_type": "markdown",
   "metadata": {},
   "source": [
    "#### Segun lo estudiado, todos los dias de la tabla de viajes hacia O'Hare hasta el Aeropuerto Internacional son en dia Sabado.\n",
    "\n",
    "###### Nota: Se me habia olvidado que en SQL sacamos la informacion unicamente de los dias sabados, pero al menos ahora aprendi a utilizar de otras maneras pd.to_datetime"
   ]
  },
  {
   "cell_type": "markdown",
   "metadata": {},
   "source": [
    "## 4.- Prueba de hipotesis nula: 'La duracion promedio de los viajes desde el Loop hasta el Aeropuerto Internacion O'Hare son diferentes'"
   ]
  },
  {
   "cell_type": "code",
   "execution_count": 60,
   "metadata": {},
   "outputs": [
    {
     "name": "stdout",
     "output_type": "stream",
     "text": [
      "La hipotesis nula es que la duracion promedio de los viajes desde el Loop hasta el Aeropuerto Internacion OHare son diferentes\n",
      "\n",
      "\n",
      "La Varianza de \"good_trip\" es:159.92597022753358\n",
      "La Varianza de \"bad_trip\" es:143.7244311111111\n",
      "valor-p:  6.742535063892503e-12\n",
      "Rechazamos la hipotesis nula.\n"
     ]
    }
   ],
   "source": [
    "print('La hipotesis nula es que la duracion promedio de los viajes desde el Loop hasta el Aeropuerto Internacion OHare son diferentes')\n",
    "print()\n",
    "print()\n",
    "good_trip = trip_info[(trip_info['weather_conditions']== 'Good')]\n",
    "#display(good_trip)\n",
    "\n",
    "bad_trip = trip_info[(trip_info['weather_conditions']== 'Bad')]\n",
    "#display(bad_trip)\n",
    "\n",
    "good_trip_s = pd.Series(good_trip['duration_minutes'])\n",
    "print(f'La Varianza de \"good_trip\" es:{np.var(good_trip_s)}')\n",
    "bad_trip_s = pd.Series(bad_trip['duration_minutes'])\n",
    "print(f'La Varianza de \"bad_trip\" es:{np.var(bad_trip_s)}')\n",
    "alpha = 0.05\n",
    "results = st.ttest_ind(good_trip_s,bad_trip_s,equal_var=False)\n",
    "print('valor-p: ', results.pvalue)\n",
    "\n",
    "\n",
    "if (results.pvalue < alpha) and (good_trip_s.mean() != bad_trip_s.mean()):\n",
    "    print('Rechazamos la hipotesis nula.')\n",
    "else:\n",
    "    print('No podemos rechazar la hipotesis nula.')"
   ]
  },
  {
   "cell_type": "markdown",
   "metadata": {},
   "source": [
    "### Conclusion Hipotesis\n",
    "La hipotesis nula es rechazada, dando a entender que el clima no afecta directamente el flujo de trafico desde Loop hasta el Aeropuerto internacional de O'Hare en los dias Sabados. Podria deberse a que la poblacion esta acostumbrada a los cambios climaticos de la zona que podrian pasar de un dia despejado hasta nieve gruesa o nieve negra siendo mas aptos para conducir en estas condiciones. a su vez las regulaciones de trafico en USA son mas estrictas por lo que la velocidad maxima del trayecto no varia, limitando la ventaja de velocidad en dias despejados."
   ]
  },
  {
   "cell_type": "code",
   "execution_count": null,
   "metadata": {},
   "outputs": [],
   "source": []
  }
 ],
 "metadata": {
  "kernelspec": {
   "display_name": "Python 3",
   "language": "python",
   "name": "python3"
  },
  "language_info": {
   "codemirror_mode": {
    "name": "ipython",
    "version": 3
   },
   "file_extension": ".py",
   "mimetype": "text/x-python",
   "name": "python",
   "nbconvert_exporter": "python",
   "pygments_lexer": "ipython3",
   "version": "3.11.5"
  }
 },
 "nbformat": 4,
 "nbformat_minor": 2
}
